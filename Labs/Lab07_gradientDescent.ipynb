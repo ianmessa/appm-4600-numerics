{
  "nbformat": 4,
  "nbformat_minor": 0,
  "metadata": {
    "colab": {
      "provenance": [],
      "authorship_tag": "ABX9TyP5MkMJ6MPoQ8/roMF1xX6F",
      "include_colab_link": true
    },
    "kernelspec": {
      "name": "python3",
      "display_name": "Python 3"
    },
    "language_info": {
      "name": "python"
    }
  },
  "cells": [
    {
      "cell_type": "markdown",
      "metadata": {
        "id": "view-in-github",
        "colab_type": "text"
      },
      "source": [
        "<a href=\"https://colab.research.google.com/github/cu-applied-math/appm-4600-numerics/blob/main/Labs/Lab07_gradientDescent.ipynb\" target=\"_parent\"><img src=\"https://colab.research.google.com/assets/colab-badge.svg\" alt=\"Open In Colab\"/></a>"
      ]
    },
    {
      "cell_type": "markdown",
      "source": [
        "# Lab 7: Gradient descent on Rosenbrock\n",
        "\n",
        "\n",
        "We'll use the very classic Rosenbrock test function; see [wikipedia](https://en.wikipedia.org/wiki/Rosenbrock_function) for a plot of what it looks like in 2D\n",
        "\n",
        "Learning objectives\n",
        "- See how to implement gradient descent\n",
        "- Compare gradient descent and Newton's method for optimization\n",
        "- Look at alternatives (e.g., alternating minimization/coordinate descent, Nelder Mead, etc.) and see how they compare\n",
        "\n",
        "We have 4 tasks:\n",
        "1. Implement gradient descent, and use it to minimize the Rosenbrock function\n",
        "2. Implement Newton's method (for optimization), and again minimize Rosenbrock\n",
        "3. Implement alternating minimization for 2D Rosenbrock\n",
        "4. (Optional) Try some of `scipy.optimize.minimize`'s builtin solvers\n",
        "\n",
        "**Deliverables**\n",
        "\n",
        "1. Turn in a PDF showing your implementation of gradient descent and evidence that it works\n",
        "\n",
        "You do *not* need to turn in the work on the other 3 tasks\n",
        "\n",
        "\n",
        "APPM 4600. Copyright Department of Applied Mathematics, University of Colorado Boulder. Released under a BSD 3-clause license"
      ],
      "metadata": {
        "id": "r3LCJEJVqvQK"
      }
    },
    {
      "cell_type": "code",
      "execution_count": 110,
      "metadata": {
        "id": "fr-6YSYQqeE0"
      },
      "outputs": [],
      "source": [
        "import numpy as np\n",
        "import matplotlib.pyplot as plt\n",
        "import scipy.linalg as sla\n",
        "from scipy.optimize import rosen, rosen_der, rosen_hess\n",
        "import scipy.optimize\n",
        "from matplotlib import colors, cm"
      ]
    },
    {
      "cell_type": "markdown",
      "source": [
        "# Task 0. Warmup -- investigate the Rosenbrock function"
      ],
      "metadata": {
        "id": "4gGaUvn_kGgr"
      }
    },
    {
      "cell_type": "markdown",
      "source": [
        "Setup the problem and see how the functions work"
      ],
      "metadata": {
        "id": "-QBoi6Hdaajn"
      }
    },
    {
      "cell_type": "code",
      "source": [
        "n = 2 # pick a dimension. Let's do n=2 for visualization reasons\n",
        "\n",
        "xSolution = np.ones(n)  # this is a known solution; see wikipedia\n",
        "errFcn    = lambda x : np.linalg.norm(x - xSolution)\n",
        "\n",
        "x0 = .1*np.ones(n)\n",
        "\n",
        "print('Function g(x)', rosen(x0))\n",
        "print('Gradient of g', rosen_der(x0))\n",
        "print('Hessian of g')\n",
        "print(rosen_hess(x0))"
      ],
      "metadata": {
        "colab": {
          "base_uri": "https://localhost:8080/"
        },
        "id": "ew1w95XOaeQO",
        "outputId": "a0bb2421-77ed-417c-d6d9-2f9dad242a70"
      },
      "execution_count": 135,
      "outputs": [
        {
          "output_type": "stream",
          "name": "stdout",
          "text": [
            "Function g(x) 1.62\n",
            "Gradient of g [-5.4 18. ]\n",
            "Hessian of g\n",
            "[[-26. -40.]\n",
            " [-40. 200.]]\n"
          ]
        }
      ]
    },
    {
      "cell_type": "markdown",
      "source": [
        "Plot it..."
      ],
      "metadata": {
        "id": "j7Qp8ZpQagQ9"
      }
    },
    {
      "cell_type": "code",
      "source": [
        "# Create a contour plot of the Rosenbrock function\n",
        "Xgrid, Ygrid = np.meshgrid(np.linspace(-2, 2, 100), np.linspace(-1, 3, 100))\n",
        "Zgrid = rosen([Xgrid, Ygrid])\n",
        "\n",
        "plt.figure(figsize=(8, 6))\n",
        "clr_norm = colors.LogNorm(vmin=Zgrid.min(), vmax=100)\n",
        "plt.contour(Xgrid, Ygrid, Zgrid, levels=np.logspace(-0.5, 3.5, 20),\n",
        "            norm=clr_norm )\n",
        "plt.plot(1,1, 'b*', markersize=10, label='Global Minimum')\n",
        "plt.plot(x0[0],x0[1], 'm*', markersize=10, label='Starting point')\n",
        "plt.title('Rosenbrock Function and Optimization Path')\n",
        "plt.xlabel('x')\n",
        "plt.ylabel('y')\n",
        "zoom = False\n",
        "if zoom:\n",
        "    plt.xlim(0.05, 1.25)\n",
        "    plt.ylim(0.05, 1.25)\n",
        "plt.legend()\n",
        "plt.grid(True)\n",
        "plt.show()\n",
        "\n",
        "# 3D plot\n",
        "fig, ax = plt.subplots(figsize=(8, 6),subplot_kw={\"projection\": \"3d\"})\n",
        "clrs = cm.viridis(clr_norm(Zgrid))\n",
        "surf = ax.plot_surface( Xgrid, Ygrid, Zgrid,facecolors=clrs)#,rstride=3,cstride=3)\n",
        "ax.set_zlim(0, 2000)\n",
        "surf.set_facecolor((1,1,1,.35))"
      ],
      "metadata": {
        "id": "83_XzWUzrSOH"
      },
      "execution_count": null,
      "outputs": []
    },
    {
      "cell_type": "markdown",
      "source": [
        "## Task 1: minimize the Rosenbrock function using gradient descent\n",
        "\n",
        "Your function should solve a generic problem $$\\min_{\\vec{x}\\in\\mathbb{R}^n} g(\\vec{x})$$\n",
        "and take as inputs at least:\n",
        "1. `g` (code that computes $g(\\vec{x})$)\n",
        "2. `gprime` (code that computes $\\nabla g(\\vec{x})$)\n",
        "3. `x0` (a starting guess, of the right size)\n",
        "4. a stepsize for gradient descent\n",
        "\n",
        "For this lab, I suggest using a fixed stepsize (determined by trial and error), though if you are ambitious you can try a linesearch.  See [Backtracking line search -- Armijo conditions](https://en.wikipedia.org/wiki/Backtracking_line_search#Algorithm) for a good one (good enough, and easy to code); try $c=10^{-4}$ and $\\tau=0.9$ for reasonable values.\n",
        "\n",
        "Then test your gradient descent code on the Rosenbrock function.\n",
        "The prebuilt code `rosen` and `rosen_der` compute the function value and gradient of the Rosenbrock function for you.\n",
        "\n",
        "We know where the true minimum is, so you can check your answer. You should aim to find a solution $\\vec{x}$ such that $\\|\\vec{x} - \\vec{x}_\\text{true minimum}\\|_2 \\le 10^{-4}$. How many iterations does this take?"
      ],
      "metadata": {
        "id": "pMlfjD4Ia0hQ"
      }
    },
    {
      "cell_type": "code",
      "source": [
        "def gradientDescent(g,gprime,x0,stepsize, ...anything-else-you-want-to-add... ):\n",
        "    x = np.array(x0,copy=True)\n",
        "\n",
        "\n",
        "    ... your code here ...\n",
        "\n",
        "\n",
        "\n"
      ],
      "metadata": {
        "id": "RMLbwhmQr2hl"
      },
      "execution_count": null,
      "outputs": []
    },
    {
      "cell_type": "markdown",
      "source": [
        "## Task 2: minimize the Rosenbrock function using Newton's method for minimization\n",
        "\n",
        "To minimize $g(\\vec{x})$, Newton's method for minimization iterates as follows:\n",
        "$$\\vec{x}^{(k+1)} = \\vec{x}^{(k)} - H_k^{-1} \\nabla g(\\vec{x}^{(k)})$$\n",
        "where\n",
        "$$H_k = \\nabla^2 g(\\vec{x}^{(k)})$$\n",
        "is the **Hessian** of $g$ (like the second derivative). The prebuilt code `rosen_hess` computes the Hessian of the Rosenbrock function for you.\n",
        "\n",
        "You should write generic code that takes in `g`, `gprime` and the `Hessian`, then use it to minimize the Rosenbrock function.\n",
        "\n",
        "You don't need to have a stepsize (i.e., a stepsize of 1 is fine).  You can do a linesearch if you want, but in that case, you should always start at the trial stepsize of 1. In order to get superlinear or quadratic convergence, you need to eventually be using a stepsize of 1.\n",
        "\n",
        "How many iterations does it take to converge compared to gradient descent?\n",
        "\n",
        "What are possible downsides of Newton's method (especially if we work in a dimension $n>2$)?"
      ],
      "metadata": {
        "id": "IfzotSjEdwuE"
      }
    },
    {
      "cell_type": "code",
      "source": [
        "def NewtonForOptimization(g,gprime,Hessian,x0, ...anything-else-you-want-to-add... ):\n",
        "    x = np.array(x0,copy=True)\n",
        "\n",
        "    ... your code here ..."
      ],
      "metadata": {
        "id": "nlG0DeljdT64"
      },
      "execution_count": null,
      "outputs": []
    },
    {
      "cell_type": "markdown",
      "source": [
        "## Task 3: alternating minimization (i.e., a variant of coordinate descent)\n",
        "Since we're working in 2D, let's write $\\vec{x} = (x,y)$. Then we can write the Rosenbrock function as:\n",
        "$$g(x,y) = (1-x)^2 + 100( y-x^2 )^2\n",
        "= 1 - 2x + x^2 + 100( y^2 - 2yx^2 + x^4)$$\n",
        "\n",
        "If we knew what $y$ is, then we just have a nice 1D polynomial in $x$ and we could minimize that (how? set the derivatives equal to zero and check which of these roots, aka critical points, is the smallest).\n",
        "\n",
        "Similarly, if we knew $x$, then we could solve for $y$.\n",
        "\n",
        "This suggests the **alternating minimization** approach: for iterations $k=1,2,\\ldots$, we do\n",
        "$$x_{k+1} = \\text{argmin}_x \\quad g(x,y_k)$$\n",
        "$$y_{k+1} = \\text{argmin}_y \\quad g(x_{k+1},y)$$\n",
        "\n",
        "In the context of solving linear systems, this is known as *Gauss-Seidel*.\n",
        "\n",
        "It doesn't always work, or if it does it may not work well, but for many problems it's easy to try.\n",
        "\n",
        "When should it work well? If $g(x,y) = g_1(x) + g_2(y)$, then it should work in one step! We call this a *separable* problem.  More generally, if the *level sets* of $g$ are nice circles, then the approach should work well.  If the level sets are instead very *elliptical*, it won't work well: we'll have a lot of **zig-zagging**.\n",
        "\n",
        "Your **task** is to implement alternating minimization to solve Rosenbrock."
      ],
      "metadata": {
        "id": "V542bIWTHQaH"
      }
    },
    {
      "cell_type": "code",
      "source": [
        "# Alternating minimization, for, specialized for n=2 case\n",
        "from numpy.polynomial import Polynomial\n",
        "# expects coefficients in order of increasing degree\n",
        "# i.e., (1, 2, 3) give 1 + 2*x + 3*x**2.\n",
        "if n != 2:\n",
        "    raise Exception('Only works for n=2')\n",
        "\n",
        "\n"
      ],
      "metadata": {
        "id": "kz6REV0_Ge-C"
      },
      "execution_count": 138,
      "outputs": []
    },
    {
      "cell_type": "code",
      "source": [
        "# Here's an example of how the polynomial class works\n",
        "# Take p(x) = (x-3)(x+2) = x^2 - x - 6, which has roots at -2 and 3\n",
        "P = Polynomial( [-6,-1,1] )\n",
        "print( \"Roots of the sample polynomial are:\", P.roots() )"
      ],
      "metadata": {
        "colab": {
          "base_uri": "https://localhost:8080/"
        },
        "id": "Rs73deeRpmoR",
        "outputId": "0202e5e1-5cd0-437c-dcf6-83c4c6405d37"
      },
      "execution_count": 164,
      "outputs": [
        {
          "output_type": "stream",
          "name": "stdout",
          "text": [
            "Roots of the sample polynomial are: [-2.  3.]\n"
          ]
        }
      ]
    },
    {
      "cell_type": "code",
      "source": [
        "# Let's try another example\n",
        "P = Polynomial( [1,1,-80,-3, 1] )\n",
        "rts = P.deriv().roots()\n",
        "print(\"Stationary points of this new polynomial are:\", rts )\n",
        "\n",
        "rts_index_of_min = np.argmin( P(rts) ) # np.argmin is useful\n",
        "print(rts_index_of_min, rts[rts_index_of_min] )\n",
        "\n",
        "px,py = P.linspace(domain=[-9,10])\n",
        "plt.plot(px,py)\n",
        "plt.plot( rts, P(rts), 'o')\n",
        "plt.show()"
      ],
      "metadata": {
        "colab": {
          "base_uri": "https://localhost:8080/",
          "height": 465
        },
        "id": "NhLdVBYUnaV_",
        "outputId": "128b12dd-90c6-4f02-eb3b-66209214255c"
      },
      "execution_count": 169,
      "outputs": [
        {
          "output_type": "stream",
          "name": "stdout",
          "text": [
            "Stationary points of this new polynomial are: [-5.30250127e+00  6.24781037e-03  7.54625346e+00]\n",
            "2 7.546253458444197\n"
          ]
        },
        {
          "output_type": "display_data",
          "data": {
            "text/plain": [
              "<Figure size 640x480 with 1 Axes>"
            ],
            "image/png": "[encoded data removed]"
          },
          "metadata": {}
        }
      ]
    },
    {
      "cell_type": "markdown",
      "source": [
        "If you saved a history vector of all the points (in a variable named `xHist`), then the code below will plot them"
      ],
      "metadata": {
        "id": "Dhb5mKkHgfDS"
      }
    },
    {
      "cell_type": "code",
      "source": [
        "# Create a contour plot of the Rosenbrock function\n",
        "Xgrid, Ygrid = np.meshgrid(np.linspace(-2, 2, 100), np.linspace(-1, 3, 100))\n",
        "Zgrid = rosen([Xgrid, Ygrid])\n",
        "\n",
        "\n",
        "plt.figure(figsize=(8, 6))\n",
        "plt.contour(Xgrid, Ygrid, Zgrid, levels=np.logspace(-0.5, 3.5, 20),\n",
        "            norm=colors.LogNorm(vmin=Zgrid.min(), vmax=100) )\n",
        "plt.plot(xHist[:, 0], xHist[:, 1], 'r:', marker='o', \\\n",
        "         markersize=3, label='Optimization Path of Alternating Minimization')\n",
        "plt.plot(1,1, 'b*', markersize=10, label='Global Minimum')\n",
        "plt.plot(x0[0],x0[1], 'm*', markersize=10, label='Starting point')\n",
        "plt.title('Rosenbrock Function and Optimization Path')\n",
        "plt.xlabel('x')\n",
        "plt.ylabel('y')\n",
        "zoom = True\n",
        "if zoom:\n",
        "    plt.xlim(0.05, 1.25)\n",
        "    plt.ylim(0.05, 1.25)\n",
        "plt.legend()\n",
        "plt.grid(True)\n",
        "plt.show()"
      ],
      "metadata": {
        "id": "4Mb9GstLHC6d"
      },
      "execution_count": null,
      "outputs": []
    },
    {
      "cell_type": "markdown",
      "source": [
        "## Task 4 (optional): try some of the `scipy.optimize` builtin solvers\n",
        "\n",
        "See the [documentation](https://docs.scipy.org/doc/scipy/reference/generated/scipy.optimize.minimize.html)\n",
        "\n",
        "Some solvers only require function evaluations $g$, others (in fact, most) also require a gradient $\\nabla g$, and some (e.g., Newton and variants) also require the Hessian $\\nabla^2g$ (or more exactly, they require a function that computes a Hessian-vector-product (HvP): if you give it $\\vec{x}$ and $\\vec{v}$, the HvP should return $\\nabla^2 g(\\vec{x})\\vec{v}$.\n",
        "\n",
        "A famous method that only uses $g$ and not $\\nabla g$ (so it is \"derivative-free\") is `Nelder-Mead`. It's famous because it's been around for a long time, not because it is good.  It's also popular because people like the fact that you don't have to give it a derivative/gradient --- it's easier to use!\n",
        "\n",
        "A prototypical method that requires $g$ and $\\nabla g$ is `BFGS` or `L-BFGS-B`, which are **quasi-Newton** methods and generally state-of-the-art.\n",
        "\n",
        "A method with uses the Hessian is `trust-exact`, which is like Newton's method but adds in a \"trust-region\" to make it much more robust.\n",
        "\n",
        "Compare the methods on the Rosenbrock test function in dimension $n=10$"
      ],
      "metadata": {
        "id": "AgnCVADIMJhF"
      }
    },
    {
      "cell_type": "code",
      "source": [
        "from time import time\n",
        "import warnings\n",
        "\n",
        "n  = 10\n",
        "x0 = 0.1*np.ones(n)\n",
        "xSolution = np.ones(n)\n",
        "errFcn    = lambda x : np.linalg.norm(x - xSolution)\n",
        "\n",
        "out = scipy.optimize.minimize( ... your code here ... )"
      ],
      "metadata": {
        "id": "Rau3CBLSM54B"
      },
      "execution_count": 139,
      "outputs": []
    },
    {
      "cell_type": "code",
      "source": [],
      "metadata": {
        "id": "eF8dG7rpMm1U"
      },
      "execution_count": null,
      "outputs": []
    }
  ]
}
