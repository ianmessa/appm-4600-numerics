{
  "nbformat": 4,
  "nbformat_minor": 0,
  "metadata": {
    "colab": {
      "provenance": [],
      "include_colab_link": true
    },
    "kernelspec": {
      "name": "python3",
      "display_name": "Python 3"
    }
  },
  "cells": [
    {
      "cell_type": "markdown",
      "metadata": {
        "id": "view-in-github",
        "colab_type": "text"
      },
      "source": [
        "<a href=\"https://colab.research.google.com/github/cu-applied-math/appm-4600-numerics/blob/main/Labs/Lab05_FixedPt_RootFinding.ipynb\" target=\"_parent\"><img src=\"https://colab.research.google.com/assets/colab-badge.svg\" alt=\"Open In Colab\"/></a>"
      ]
    },
    {
      "cell_type": "markdown",
      "metadata": {
        "id": "EO0yZqtEw0v9"
      },
      "source": [
        "# Lab 5: Fixed Point iteration and Rootfinding\n",
        "\n",
        "There are **two parts** to this lab: fixed point iterations and root-finding with Newton's method. See below for details\n",
        "\n",
        "#### Learning Objectives\n",
        "1. Learn how to use and interpret a cobweb plot\n",
        "1. See that the fixed point iteration doesn't always work\n",
        "2. Predict which of the fixed point formulations will converge (hint: plot their deriviative)\n",
        "3. Check your predictions with the cobweb plot\n",
        "4. See that Newton's method doesn't always work\n",
        "5. Practice implementing robust methods, e.g., ones that check for convergence, and return useful status flags to the user\n",
        "\n",
        "\n",
        "Copyright 2025, Department of Applied Mathematics, University of Colorado Boulder. Released under the BSD 3-Clause License"
      ]
    },
    {
      "cell_type": "code",
      "source": [
        "from matplotlib import pyplot as plt"
      ],
      "metadata": {
        "id": "WacMaMZARaJ6"
      },
      "execution_count": null,
      "outputs": []
    },
    {
      "cell_type": "markdown",
      "source": [
        "## Part 1: Fixed point iterations (and cobweb plots)\n",
        "\n",
        "See [cobweb plot on wikipedia](https://en.wikipedia.org/wiki/Cobweb_plot), sometimes called a spider diagram\n",
        "\n",
        "You can plot these via Python, but to make them nice and interactive is a bit of work (`matplotlib.animation.FuncAnimation` can do it, but you have to be quite proficient with Python and matplotlib).\n",
        "\n",
        "For this demo, I recommend that you use [this geogebra online cobweb plot](https://www.geogebra.org/m/uvsfvNDt) or one of the varios Desmos apps (e.g., [Logistic Function Cobweb Diagram](https://www.desmos.com/calculator/ktsps2nrhi)) which are quite simple and runs on most modern web browsers.\n",
        "\n",
        "We'll look at 5 different fixed-point reformulations of the same root-finding problem\n",
        "$$f(x) = x^3 + 4x^2 - 10, \\text{ find } f(x)=0$$\n",
        "within the interval $[1,2]$\n",
        "\n",
        "We'll convert it to a fixed point equation $$g(x)=x$$ for:\n",
        "$$\\begin{aligned}\n",
        "g_1(x) &= x - x^3 - 4x^2+10\\\\\\\\\n",
        "g_2(x) &= \\sqrt{\\frac{10}{x}-4x}\\\\\\\\\n",
        "g_3(x) &= \\frac{1}{2}\\sqrt{10-x^3}\\\\\\\\\n",
        "g_4(x) &= \\sqrt{\\frac{10}{4+x}}\\\\\\\\\n",
        "g_5(x) &= x - \\frac{x^3+4x^2-10}{3x^2+8x}\n",
        "\\end{aligned}\n",
        "$$\n",
        "If we know that the root is positive, then all of these $g$ functions should have a fixed point at a root of $f$ (you can double-check this yourself!)\n",
        "\n",
        "These are in the Burden and Faires book in Table 2.2.\n",
        "\n",
        "### Task\n",
        "1. First, run a standard root-finding method from scipy (e.g., `scipy.optimize.root_scalar`) to find the value of the root in $[1,2]$\n",
        "2. Then, for each of the five variations,\n",
        "    - convince yourself via algebraic manipulations that the fixed-point problem is equivalent to the root-finding problem\n",
        "    - plot the fixed-point problem, i.e., $y=g_i(x)$ and $y=x$, and confirm visually that it looks like it has the same solution as the root-finding problem\n",
        "    - find the max and min value of the derivative, $g'_i$, over the interval $[1,2]$. This can be done either by hand or by graphing\n",
        "    - check if $g_i$ maps $[1,2]$ into $[1,2]$. This can be done either by hand or by graphing\n",
        "    - using the cobweb plotting software of your choice, run the fixed point iteration for each variation, trying it for starting points of both $x_0=1$ and $x_0=2$.  Does it converge? Diverge? Cycle?\n",
        "\n",
        "### Deliverables\n",
        "Your PDF should have an image (a screenshot is fine) of the cobweb plot for one case where it diverges, and one case where it converges. Make sure it is clearly labeled which example and what starting point."
      ],
      "metadata": {
        "id": "mHySfWaRyewM"
      }
    },
    {
      "cell_type": "code",
      "source": [
        "import numpy as np\n",
        "from scipy.optimize import root_scalar\n",
        "\n",
        "# ... todo ...\n",
        "# 1. Find a root of f using root_scalar or something else standard\n",
        "# 2a. Check that x = g_i(x) is the same as f(x)=0 for each i\n",
        "# 2b. Plot g_i(x) for each i, confirm part 2a visually\n",
        "# 2c. Find the max and min of g_i' over the interval [1,2]\n",
        "# 2d. Check if g_1 maps [1,2] into [1,2]\n",
        "# 2e. Run a cobweb plot for two initial conditions, for each i   (this can be done externally, just take screenshots)"
      ],
      "metadata": {
        "id": "WMYjU5ezMO9q"
      },
      "execution_count": null,
      "outputs": []
    },
    {
      "cell_type": "markdown",
      "source": [
        "## Part 2: Breaking Newton's Method"
      ],
      "metadata": {
        "id": "Lpu4lpg801Zo"
      }
    },
    {
      "cell_type": "code",
      "source": [
        "import jax.numpy as jnp\n",
        "from jax import grad\n",
        "from jax import config\n",
        "config.update(\"jax_enable_x64\", True)\n",
        "from scipy.special import lambertw as W\n",
        "\n",
        "f = lambda x : jnp.arctan(x) + jnp.exp(-x**2/10)*jnp.sin(2*x)\n",
        "\n",
        "xGrid = jnp.linspace(-10,10,200)\n",
        "plt.plot( xGrid, f(xGrid), '-' )\n",
        "plt.axhline(y=0, color='k', linestyle='--')\n",
        "plt.show()"
      ],
      "metadata": {
        "colab": {
          "base_uri": "https://localhost:8080/",
          "height": 430
        },
        "id": "qzm5RKV71AZX",
        "outputId": "0f30d8d0-3baa-4c1d-8d3a-16722a88b50c"
      },
      "execution_count": null,
      "outputs": [
        {
          "output_type": "display_data",
          "data": {
            "text/plain": [
              "<Figure size 640x480 with 1 Axes>"
            ],
            "image/png": "[encoded data removed]"
          },
          "metadata": {}
        }
      ]
    },
    {
      "cell_type": "markdown",
      "source": [
        "### Task\n",
        "1. Implement Newton's method\n",
        "    - I've made a skeleton of some code for you below. Fill this in to implement Newton's method.\n",
        "    - We'll use JAX to do automatic differentiation for us, so you don't even need to supply the derivative! But this does mean that your function must be defined using JAX functions (i.e., use `import jax.numpy as jnp` and then use `jnp...` instead of `np...`)\n",
        "    - Make sure you have a **stopping condition**, and detect when the method **diverges**.  Return a useful **error message** that the user can look at.\n",
        "    - Make sure your method works by running it on some root-finding problems where we know the answer.\n",
        "2. For the function $f(x)=\\arctan(x) + e^{-x^2/10}\\sin(2x)$, which is plotted above, we want to find the root using Newton's method (spoiler alert: the root is $x=0$).\n",
        "    - First, using the plot, visually draw out the first few iterations of Newton's method for a few different starting points.\n",
        "    - Now, systematically test whether Newton's method converges for different starting points $x_0$. Choose a grid of $x_0$ locations consisting of 100 equally spaced points between $[-10,10]$ and for each $x_0$, run your Newton method code and see if it converges.  Check your error flag from your code!\n",
        "\n",
        "### Deliverable\n",
        "You should turn in a plot that shows for which starting points $x_0$ Newton's method converges (i.e., plot a $1$ at $x_0$ if it converged, and a $0$ if it failed to converge or diverged)."
      ],
      "metadata": {
        "id": "bY82pOHs1Qvb"
      }
    },
    {
      "cell_type": "markdown",
      "source": [
        "### Task 1"
      ],
      "metadata": {
        "id": "f_hm9wn3W3xG"
      }
    },
    {
      "cell_type": "code",
      "source": [
        "import jax.numpy as jnp\n",
        "from jax import grad\n",
        "from jax import config\n",
        "config.update(\"jax_enable_x64\", True)\n",
        "from scipy.special import lambertw as W\n",
        "\n",
        "# First, convince yourself that code and algorithm are working\n",
        "# by running the code on some problems where we can check our answer\n",
        "\n",
        "# Very simple class, basically just a structure\n",
        "class testProblem:\n",
        "    def __init__(self, f, trueAnswer, name=None ):\n",
        "        self.f = f\n",
        "        self.trueAnswer = trueAnswer\n",
        "        self.name = name\n",
        "\n",
        "testProblemSuite = []\n",
        "\n",
        "# One test problem\n",
        "x = 15\n",
        "f = lambda y : y*jnp.exp(y) - x\n",
        "trueAnswer = jnp.real(W(x))\n",
        "testProblemSuite.append( testProblem(f,trueAnswer,'Lambert W function') )\n",
        "\n",
        "# Another test problem\n",
        "# Let's figure out the square root of 13\n",
        "f = lambda y : y**2 - 13\n",
        "trueAnswer = jnp.sqrt(13)\n",
        "testProblemSuite.append( testProblem(f,trueAnswer,'Square root of 13') )\n",
        "\n",
        "\n",
        "def Newton(f,x0,fprime=None,maxSteps=100,tol = 1e-15):\n",
        "    \"\"\" Newton method to solve f(x)=0, where fprime is the derivative\n",
        "    of f. If fprime is not supplied, then the code will use JAX's\n",
        "    Automatic Differentiation to automatically compute it.\n",
        "    Starts Newton's method at the initial guess of x0. \"\"\"\n",
        "    # I added a few things in the function signature that you want\n",
        "    # You are free to add more things\n",
        "    # (e.g., a flag that controls where you print information out every iteration or not...\n",
        "    #  That's often nice to see, but you may want to be able to turn it off in case\n",
        "    #  it gets annoying )\n",
        "\n",
        "\n",
        "    if fprime is None:\n",
        "        fprime = grad(f) # use JAX's autodiff\n",
        "    x = jnp.array(x0,dtype=jnp.float64) # if it's an integer, convert to float\n",
        "\n",
        "    # ... TODO ... you implement the rest\n",
        "\n",
        "    # ...\n",
        "    status = 'Code is not implemented yet!!'\n",
        "\n",
        "    return x, status\n",
        "\n",
        "for test in testProblemSuite:\n",
        "    f          = test.f\n",
        "    trueAnswer = test.trueAnswer\n",
        "    print(f'=== Problem: {test.name}   ===')\n",
        "    fprime = grad(f)\n",
        "    x, status = Newton(f,.99,fprime)\n",
        "    print(status)\n",
        "    print(x)\n",
        "    print(trueAnswer)"
      ],
      "metadata": {
        "colab": {
          "base_uri": "https://localhost:8080/"
        },
        "id": "CzeavIbhMEpd",
        "outputId": "04b5d68e-6cff-4a2f-b6cd-d4bcc97baed8"
      },
      "execution_count": null,
      "outputs": [
        {
          "output_type": "stream",
          "name": "stdout",
          "text": [
            "=== Problem: Lambert W function   ===\n",
            "Code is not implemented yet!!\n",
            "0.99\n",
            "2.0099435593505657\n",
            "=== Problem: Square root of 13   ===\n",
            "Code is not implemented yet!!\n",
            "0.99\n",
            "3.605551275463989\n"
          ]
        }
      ]
    },
    {
      "cell_type": "markdown",
      "source": [
        "### Task 2\n",
        "Now that you've implemented Newton's method and have some faith that it works correctly, let's apply it to the function in question $f(x)=\\arctan(x) + e^{-x^2/10}\\sin(2x)$"
      ],
      "metadata": {
        "id": "VQSxM9jHWtwj"
      }
    },
    {
      "cell_type": "code",
      "source": [
        "# A quick plot of the function in question\n",
        "f = lambda x : jnp.arctan(x) + jnp.exp(-x**2/10)*jnp.sin(2*x)\n",
        "\n",
        "xGrid = jnp.linspace(-10,10,200)\n",
        "plt.plot( xGrid, f(xGrid), '-' )\n",
        "plt.axhline(y=0, color='k', linestyle='--')\n",
        "plt.show()"
      ],
      "metadata": {
        "colab": {
          "base_uri": "https://localhost:8080/",
          "height": 430
        },
        "id": "a1JBzhFAUlqP",
        "outputId": "9a26d41e-491f-4b01-8d58-88d6cc8ec3af"
      },
      "execution_count": null,
      "outputs": [
        {
          "output_type": "display_data",
          "data": {
            "text/plain": [
              "<Figure size 640x480 with 1 Axes>"
            ],
            "image/png": "[encoded data removed]"
          },
          "metadata": {}
        }
      ]
    },
    {
      "cell_type": "code",
      "source": [
        "# To start with, if you have x0 very close to the true root (which is 0), does your code work?\n",
        "# And conversely, if x0 is very far away, does it fail? Can you detect that it fails?\n",
        "#    Draw out the approximations that Newton's method makes -- does that help explain it?"
      ],
      "metadata": {
        "id": "f_hcd2HVPRG4"
      },
      "execution_count": null,
      "outputs": []
    },
    {
      "cell_type": "markdown",
      "source": [
        "Now a systematic test: for which starting values $x_0$ does Newton's method converge?"
      ],
      "metadata": {
        "id": "I6pRPyELUsoD"
      }
    },
    {
      "cell_type": "code",
      "source": [
        "m = 100\n",
        "x0grid = jnp.linspace(-10,10,m)\n",
        "success = []\n",
        "for x0 in x0grid:\n",
        "    x, status = Newton(f,x0, ...anything-else-you-need-to-pass-in )\n",
        "    success.append( status=='converged' ) # ... or something like this"
      ],
      "metadata": {
        "id": "Dq31PmegS537"
      },
      "execution_count": null,
      "outputs": []
    },
    {
      "cell_type": "code",
      "source": [
        "# And make a plot for the deliverable\n",
        "plt.plot( x0grid, success )\n",
        "plt.title(\"Success of Newton's method as a function of starting point\")\n",
        "plt.xlabel(\"Starting point $x_0$\")\n",
        "plt.ylabel(\"1=success, 0=failure\")\n",
        "plt.show()"
      ],
      "metadata": {
        "id": "vUXCsjqHTsBB"
      },
      "execution_count": null,
      "outputs": []
    }
  ]
}