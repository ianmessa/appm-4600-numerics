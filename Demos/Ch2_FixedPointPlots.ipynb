{
  "nbformat": 4,
  "nbformat_minor": 0,
  "metadata": {
    "colab": {
      "name": "Ch2_FixedPointPlots.ipynb",
      "provenance": [],
      "authorship_tag": "ABX9TyNh4EvRJLfrCq0Rv/EDu4Rf",
      "include_colab_link": true
    },
    "kernelspec": {
      "name": "python3",
      "display_name": "Python 3"
    }
  },
  "cells": [
    {
      "cell_type": "markdown",
      "metadata": {
        "id": "view-in-github",
        "colab_type": "text"
      },
      "source": [
        "<a href=\"https://colab.research.google.com/github/cu-applied-math/appm-4600-numerics/blob/main/Demos/Ch2_FixedPointPlots.ipynb\" target=\"_parent\"><img src=\"https://colab.research.google.com/assets/colab-badge.svg\" alt=\"Open In Colab\"/></a>"
      ]
    },
    {
      "cell_type": "markdown",
      "metadata": {
        "id": "8v-7YFdsl296"
      },
      "source": [
        "# Fixed Point iteration (and cobweb plots)\n",
        "\n",
        "See [cobweb plot on wikipedia](https://en.wikipedia.org/wiki/Cobweb_plot), sometimes called a spider diagram\n",
        "\n",
        "You can plot these via Python, but to make them nice and interactive is a bit of work (`matplotlib.animation.FuncAnimation` can do it, but you have to be quite proficient with Python and matplotlib).\n",
        "\n",
        "For this demo, I recommend that you use [this geogebra online cobweb plot](https://www.geogebra.org/m/uvsfvNDt) or one of the varios Desmos apps (e.g., [Logistic Functino Cobweb Diagram](https://www.desmos.com/calculator/ktsps2nrhi)) which are quite simple and runs on most modern web browsers.\n",
        "\n",
        "We'll look at 5 different fixed-point reformulations of the same root-finding problem\n",
        "$$f(x) = x^3 + 4x^2 - 10, \\text{ find } f(x)=0$$\n",
        "within the interval $[1,2]$\n",
        "\n",
        "where we now solve the fixed point equation $$g(x)=x$$ for:\n",
        "$$\\begin{aligned}\n",
        "g_1(x) &= x - x^3 - 4x^2+10\\\\\\\\\n",
        "g_2(x) &= \\sqrt{\\frac{10}{x}-4x}\\\\\\\\\n",
        "g_3(x) &= \\frac{1}{2}\\sqrt{10-x^3}\\\\\\\\\n",
        "g_4(x) &= \\sqrt{\\frac{10}{4+x}}\\\\\\\\\n",
        "g_5(x) &= x - \\frac{x^3+4x^2-10}{3x^2+8x}\n",
        "\\end{aligned}\n",
        "$$\n",
        "\n",
        "These are in the book in Table 2.2.\n",
        "\n",
        "The goal of this demo is:\n",
        "1. Learn how to use and interpret a cobweb plot\n",
        "2. Predict which of the fixed point formulations will converge (hint: plot their deriviative)\n",
        "3. Check your predictions with the cobweb plot"
      ]
    },
    {
      "cell_type": "code",
      "metadata": {
        "id": "qV4K6SHil1z6",
        "colab": {
          "base_uri": "https://localhost:8080/",
          "height": 504
        },
        "outputId": "493b0601-6fa4-4f8f-9abe-0e31ed8f16bd"
      },
      "source": [
        "import math\n",
        "import numpy as np\n",
        "from sympy import init_printing\n",
        "init_printing()\n",
        "\n",
        "# from sympy import symbols, maximum, minimum, sqrt, diff, lambdify, Function, Interval, Abs\n",
        "import sympy\n",
        "from sympy.plotting import plot\n",
        "\n",
        "x = sympy.symbols('x')\n",
        "f, fprime = sympy.symbols('f fprime',cls=sympy.Function)\n",
        "\n",
        "f = x**3 + 4*x**2 - 10\n",
        "plot( f, (x,-10,10))"
      ],
      "execution_count": 19,
      "outputs": [
        {
          "output_type": "display_data",
          "data": {
            "text/plain": [
              "<Figure size 640x480 with 1 Axes>"
            ],
            "image/png": "[encoded data removed]"
          },
          "metadata": {}
        },
        {
          "output_type": "execute_result",
          "data": {
            "text/plain": [
              "<sympy.plotting.backends.matplotlibbackend.matplotlib.MatplotlibBackend at 0x7a0e1e6d6630>"
            ]
          },
          "metadata": {},
          "execution_count": 19
        }
      ]
    },
    {
      "cell_type": "code",
      "metadata": {
        "id": "tAdCiDiYvryw",
        "colab": {
          "base_uri": "https://localhost:8080/"
        },
        "outputId": "8920ac67-5161-4f38-aaec-ad3c1186855c"
      },
      "source": [
        "from scipy.optimize import root_scalar\n",
        "f_numeric = sympy.lambdify(x,f) # from SymPy\n",
        "output = root_scalar( f_numeric, x0 = 1.5, x1 = 1.4)\n",
        "output"
      ],
      "execution_count": 20,
      "outputs": [
        {
          "output_type": "execute_result",
          "data": {
            "text/plain": [
              "      converged: True\n",
              "           flag: converged\n",
              " function_calls: 6\n",
              "     iterations: 5\n",
              "           root: 1.3652300134140967\n",
              "         method: secant"
            ]
          },
          "metadata": {},
          "execution_count": 20
        }
      ]
    },
    {
      "cell_type": "code",
      "metadata": {
        "id": "v1-hSsSfxbnK",
        "colab": {
          "base_uri": "https://localhost:8080/",
          "height": 211
        },
        "outputId": "bd859951-b9a4-4665-adff-5f728d7579e0"
      },
      "source": [
        "# The fix point iteration is very simple.  Not having any error checking or convergence checks,\n",
        "# in order to focus on the algorihtm itself, the following is an implementation\n",
        "def fixedPointIter( f, x0, maxIter ):\n",
        "  p = x0 # if a numpy array, then do x0.copy()\n",
        "  for i in range(maxIter):\n",
        "    p = f(p)\n",
        "    print(\"Iter {:3d}, guess is {:12.9f}\".format(i,p))\n",
        "  return p\n",
        "\n",
        "p = fixedPointIter( lambda x : .5*math.sqrt(10-x**3), 1.5, 10 ) # or np.sqrt\n",
        "p"
      ],
      "execution_count": 21,
      "outputs": [
        {
          "output_type": "stream",
          "name": "stdout",
          "text": [
            "Iter   0, guess is  1.286953768\n",
            "Iter   1, guess is  1.402540804\n",
            "Iter   2, guess is  1.345458374\n",
            "Iter   3, guess is  1.375170253\n",
            "Iter   4, guess is  1.360094193\n",
            "Iter   5, guess is  1.367846968\n",
            "Iter   6, guess is  1.363887004\n",
            "Iter   7, guess is  1.365916733\n",
            "Iter   8, guess is  1.364878217\n",
            "Iter   9, guess is  1.365410061\n"
          ]
        },
        {
          "output_type": "execute_result",
          "data": {
            "text/plain": [
              "1.365410061169957"
            ],
            "text/latex": "$\\displaystyle 1.36541006116996$"
          },
          "metadata": {},
          "execution_count": 21
        }
      ]
    },
    {
      "cell_type": "markdown",
      "metadata": {
        "id": "tTwgUFQas8JJ"
      },
      "source": [
        "## Formulation 1\n",
        "$$g_1(x) = x - x^3 - 4x^2+10$$"
      ]
    },
    {
      "cell_type": "code",
      "metadata": {
        "id": "ALYGxunXoU6S",
        "colab": {
          "base_uri": "https://localhost:8080/",
          "height": 39
        },
        "outputId": "c8fa1431-ae7c-41cc-8010-d124c68a5fe5"
      },
      "source": [
        "g1 = x - x**3 - 4*x**2+10\n",
        "g1"
      ],
      "execution_count": 22,
      "outputs": [
        {
          "output_type": "execute_result",
          "data": {
            "text/plain": [
              "   3      2         \n",
              "- x  - 4⋅x  + x + 10"
            ],
            "text/latex": "$\\displaystyle - x^{3} - 4 x^{2} + x + 10$"
          },
          "metadata": {},
          "execution_count": 22
        }
      ]
    },
    {
      "cell_type": "code",
      "metadata": {
        "id": "Cn_kgw7fs36x",
        "colab": {
          "base_uri": "https://localhost:8080/",
          "height": 39
        },
        "outputId": "b75607b4-b533-443b-bfee-b9a69d2d7805"
      },
      "source": [
        "g1Prime = sympy.diff(g1)\n",
        "g1Prime"
      ],
      "execution_count": 23,
      "outputs": [
        {
          "output_type": "execute_result",
          "data": {
            "text/plain": [
              "     2          \n",
              "- 3⋅x  - 8⋅x + 1"
            ],
            "text/latex": "$\\displaystyle - 3 x^{2} - 8 x + 1$"
          },
          "metadata": {},
          "execution_count": 23
        }
      ]
    },
    {
      "cell_type": "code",
      "source": [
        "# We can see that this is NOT contractive in the interval\n",
        "sympy.minimum( g1Prime, x, sympy.Interval(1,2) ), sympy.maximum( g1Prime, x, sympy.Interval(1,2) )"
      ],
      "metadata": {
        "id": "hVj1LyAaZ0ER",
        "outputId": "4f217101-da9a-4230-cd66-ed6c70e5926d",
        "colab": {
          "base_uri": "https://localhost:8080/",
          "height": 37
        }
      },
      "execution_count": 26,
      "outputs": [
        {
          "output_type": "execute_result",
          "data": {
            "text/plain": [
              "(-27, -10)"
            ],
            "text/latex": "$\\displaystyle \\left( -27, \\  -10\\right)$"
          },
          "metadata": {},
          "execution_count": 26
        }
      ]
    },
    {
      "cell_type": "code",
      "metadata": {
        "id": "jVqncRs5pdzb",
        "colab": {
          "base_uri": "https://localhost:8080/",
          "height": 486
        },
        "outputId": "0b6bb69a-2080-4ab9-b044-1d395274c35c"
      },
      "source": [
        "plt1 = plot( g1, (x,0,3), ylim = (-5,5), show=False )\n",
        "plt2 = plot( g1Prime, (x,0,3), show=False , line_color='red')\n",
        "plt3 = plot( x, (x,0,3), show=False , line_color='green')\n",
        "plt1.append( plt2[0] )\n",
        "plt1.append( plt3[0] )\n",
        "#ax.axis('equal') # equal aspect ratio, so 45 degree line looks like 45 degrees\n",
        "plt1.show()"
      ],
      "execution_count": 25,
      "outputs": [
        {
          "output_type": "display_data",
          "data": {
            "text/plain": [
              "<Figure size 640x480 with 1 Axes>"
            ],
            "image/png": "[encoded data removed]"
          },
          "metadata": {}
        }
      ]
    },
    {
      "cell_type": "markdown",
      "metadata": {
        "id": "zlIZTQFatEJU"
      },
      "source": [
        "## Formulation 2\n",
        "$$g_2(x) = \\sqrt{\\frac{10}{x}-4x}$$"
      ]
    },
    {
      "cell_type": "code",
      "metadata": {
        "id": "BN9G617stJl7",
        "colab": {
          "base_uri": "https://localhost:8080/",
          "height": 58
        },
        "outputId": "b220eda4-47e4-4468-cb7a-6a5975258c14"
      },
      "source": [
        "g2 = sympy.sqrt( 10/x-4*x )\n",
        "g2"
      ],
      "execution_count": 27,
      "outputs": [
        {
          "output_type": "execute_result",
          "data": {
            "text/plain": [
              "    ___________\n",
              "   ╱        10 \n",
              "  ╱  -4⋅x + ── \n",
              "╲╱          x  "
            ],
            "text/latex": "$\\displaystyle \\sqrt{- 4 x + \\frac{10}{x}}$"
          },
          "metadata": {},
          "execution_count": 27
        }
      ]
    },
    {
      "cell_type": "code",
      "metadata": {
        "id": "Q3xfbeHTtWhr",
        "colab": {
          "base_uri": "https://localhost:8080/",
          "height": 73
        },
        "outputId": "2a41051a-965c-41b7-a075-a5c3f0cb8f8d"
      },
      "source": [
        "g2Prime = sympy.diff(g2)\n",
        "g2Prime"
      ],
      "execution_count": 28,
      "outputs": [
        {
          "output_type": "execute_result",
          "data": {
            "text/plain": [
              "         5     \n",
              "    -2 - ──    \n",
              "          2    \n",
              "         x     \n",
              "───────────────\n",
              "    ___________\n",
              "   ╱        10 \n",
              "  ╱  -4⋅x + ── \n",
              "╲╱          x  "
            ],
            "text/latex": "$\\displaystyle \\frac{-2 - \\frac{5}{x^{2}}}{\\sqrt{- 4 x + \\frac{10}{x}}}$"
          },
          "metadata": {},
          "execution_count": 28
        }
      ]
    },
    {
      "cell_type": "code",
      "source": [
        "sympy.minimum( g2Prime, x, sympy.Interval(1,2) ), sympy.maximum( g2Prime, x, sympy.Interval(1,2) ).evalf()"
      ],
      "metadata": {
        "id": "jsFRdSw6a9AP",
        "outputId": "06971889-09e4-43de-e1e2-e4a2008ad7e4",
        "colab": {
          "base_uri": "https://localhost:8080/",
          "height": 37
        }
      },
      "execution_count": 33,
      "outputs": [
        {
          "output_type": "execute_result",
          "data": {
            "text/plain": [
              "(-∞, -2.82868888288256)"
            ],
            "text/latex": "$\\displaystyle \\left( -\\infty, \\  -2.82868888288256\\right)$"
          },
          "metadata": {},
          "execution_count": 33
        }
      ]
    },
    {
      "cell_type": "code",
      "metadata": {
        "id": "MvRGwcd_tvec",
        "colab": {
          "base_uri": "https://localhost:8080/",
          "height": 487
        },
        "outputId": "f8a01443-cdcf-489d-8a67-6e4acb268a21"
      },
      "source": [
        "plt1 = plot( g2, (x,1,2), ylim = (-10,3), show=False )\n",
        "plt2 = plot( g2Prime, (x,1,2), show=False , line_color='red')\n",
        "plt3 = plot( x, (x,1,2), show=False , line_color='green')\n",
        "plt1.append( plt2[0] )\n",
        "plt1.append( plt3[0] )\n",
        "#ax.axis('equal') # equal aspect ratio, so 45 degree line looks like 45 degrees\n",
        "plt1.show()"
      ],
      "execution_count": 24,
      "outputs": [
        {
          "output_type": "display_data",
          "data": {
            "text/plain": [
              "<Figure size 640x480 with 1 Axes>"
            ],
            "image/png": "[encoded data removed]"
          },
          "metadata": {}
        }
      ]
    },
    {
      "cell_type": "markdown",
      "metadata": {
        "id": "jnjpvuP9t6Ef"
      },
      "source": [
        "## Formulation 3\n",
        "$$g_3(x) = \\frac{1}{2}\\sqrt{10-x^3}$$"
      ]
    },
    {
      "cell_type": "code",
      "metadata": {
        "id": "fJ8d068atzWJ",
        "colab": {
          "base_uri": "https://localhost:8080/",
          "height": 40
        },
        "outputId": "54d7e99b-bc1d-425a-bd7a-08360547a195"
      },
      "source": [
        "g3 = 1/2*sympy.sqrt(10-x**3)\n",
        "g3"
      ],
      "execution_count": 34,
      "outputs": [
        {
          "output_type": "execute_result",
          "data": {
            "text/plain": [
              "       _________\n",
              "      ╱       3 \n",
              "0.5⋅╲╱  10 - x  "
            ],
            "text/latex": "$\\displaystyle 0.5 \\sqrt{10 - x^{3}}$"
          },
          "metadata": {},
          "execution_count": 34
        }
      ]
    },
    {
      "cell_type": "code",
      "metadata": {
        "id": "eUYx1Fp_uDUA",
        "colab": {
          "base_uri": "https://localhost:8080/",
          "height": 58
        },
        "outputId": "6d166308-7646-457a-91cd-7251bbd4d5d1"
      },
      "source": [
        "g3Prime = sympy.diff(g3)\n",
        "g3Prime"
      ],
      "execution_count": 35,
      "outputs": [
        {
          "output_type": "execute_result",
          "data": {
            "text/plain": [
              "        2   \n",
              " -0.75⋅x    \n",
              "────────────\n",
              "   _________\n",
              "  ╱       3 \n",
              "╲╱  10 - x  "
            ],
            "text/latex": "$\\displaystyle - \\frac{0.75 x^{2}}{\\sqrt{10 - x^{3}}}$"
          },
          "metadata": {},
          "execution_count": 35
        }
      ]
    },
    {
      "cell_type": "code",
      "source": [
        "sympy.minimum( g3Prime, x, sympy.Interval(1,2) ).evalf(), sympy.maximum( g3Prime, x, sympy.Interval(1,2) )"
      ],
      "metadata": {
        "id": "PLBfhi4QbUER",
        "outputId": "399b5235-cdfd-424d-821d-3d236a2bc760",
        "colab": {
          "base_uri": "https://localhost:8080/",
          "height": 37
        }
      },
      "execution_count": 37,
      "outputs": [
        {
          "output_type": "execute_result",
          "data": {
            "text/plain": [
              "(-2.12132034355964, -0.25)"
            ],
            "text/latex": "$\\displaystyle \\left( -2.12132034355964, \\  -0.25\\right)$"
          },
          "metadata": {},
          "execution_count": 37
        }
      ]
    },
    {
      "cell_type": "code",
      "metadata": {
        "id": "IP0tFL_YuGlv",
        "colab": {
          "base_uri": "https://localhost:8080/",
          "height": 486
        },
        "outputId": "1df4a46d-0a58-4b9b-cf96-44b104022d26"
      },
      "source": [
        "plt1 = plot( g3, (x,1,3), ylim = (-5,5), show=False )\n",
        "plt2 = plot( g3Prime, (x,1,3), show=False , line_color='red')\n",
        "plt3 = plot( x, (x,1,3), show=False , line_color='green')\n",
        "plt1.append( plt2[0] )\n",
        "plt1.append( plt3[0] )\n",
        "plt1.show()"
      ],
      "execution_count": 27,
      "outputs": [
        {
          "output_type": "display_data",
          "data": {
            "text/plain": [
              "<Figure size 640x480 with 1 Axes>"
            ],
            "image/png": "[encoded data removed]"
          },
          "metadata": {}
        }
      ]
    },
    {
      "cell_type": "markdown",
      "metadata": {
        "id": "gRUx23DLuykZ"
      },
      "source": [
        "## Formulation 4\n",
        "$$g_4(x) = \\sqrt{\\frac{10}{4+x}}$$"
      ]
    },
    {
      "cell_type": "code",
      "metadata": {
        "id": "bX_vJq6Cux-T",
        "colab": {
          "base_uri": "https://localhost:8080/",
          "height": 58
        },
        "outputId": "a29471db-7ca7-412a-f382-c21c09156397"
      },
      "source": [
        "g4 = sympy.sqrt(10/(4+x))\n",
        "g4"
      ],
      "execution_count": 38,
      "outputs": [
        {
          "output_type": "execute_result",
          "data": {
            "text/plain": [
              "        _______\n",
              "       ╱   1   \n",
              "√10⋅  ╱  ───── \n",
              "    ╲╱   x + 4 "
            ],
            "text/latex": "$\\displaystyle \\sqrt{10} \\sqrt{\\frac{1}{x + 4}}$"
          },
          "metadata": {},
          "execution_count": 38
        }
      ]
    },
    {
      "cell_type": "code",
      "metadata": {
        "id": "VBKc7W6CuS8m",
        "colab": {
          "base_uri": "https://localhost:8080/",
          "height": 71
        },
        "outputId": "a4b6035f-f051-49ed-c54a-1a1e3485fc42"
      },
      "source": [
        "g4Prime = sympy.diff(g4)\n",
        "g4Prime"
      ],
      "execution_count": 39,
      "outputs": [
        {
          "output_type": "execute_result",
          "data": {
            "text/plain": [
              "         _______ \n",
              "        ╱   1    \n",
              "-√10⋅  ╱  ─────  \n",
              "     ╲╱   x + 4  \n",
              "─────────────────\n",
              "    2⋅(x + 4)    "
            ],
            "text/latex": "$\\displaystyle - \\frac{\\sqrt{10} \\sqrt{\\frac{1}{x + 4}}}{2 \\left(x + 4\\right)}$"
          },
          "metadata": {},
          "execution_count": 39
        }
      ]
    },
    {
      "cell_type": "code",
      "source": [
        "sympy.minimum( g4Prime, x, sympy.Interval(1,2) ).evalf(), sympy.maximum( g4Prime, x, sympy.Interval(1,2) ).evalf()"
      ],
      "metadata": {
        "id": "Ceo1TZLLbacy",
        "outputId": "ee30105e-1054-4c28-dbd3-bb76306e6b15",
        "colab": {
          "base_uri": "https://localhost:8080/",
          "height": 37
        }
      },
      "execution_count": 41,
      "outputs": [
        {
          "output_type": "execute_result",
          "data": {
            "text/plain": [
              "(-0.14142135623731, -0.107582870727984)"
            ],
            "text/latex": "$\\displaystyle \\left( -0.14142135623731, \\  -0.107582870727984\\right)$"
          },
          "metadata": {},
          "execution_count": 41
        }
      ]
    },
    {
      "cell_type": "code",
      "metadata": {
        "id": "3uZ1j6VMu9SM",
        "colab": {
          "base_uri": "https://localhost:8080/",
          "height": 486
        },
        "outputId": "be710d1e-fbe7-4d1f-c60e-78f5484d0aed"
      },
      "source": [
        "plt1 = plot( g4, (x,1,3), ylim = (-5,5), show=False )\n",
        "plt2 = plot( g4Prime, (x,1,3), show=False , line_color='red')\n",
        "plt3 = plot( x, (x,1,3), show=False , line_color='green')\n",
        "plt1.append( plt2[0] )\n",
        "plt1.append( plt3[0] )\n",
        "plt1.show()"
      ],
      "execution_count": 30,
      "outputs": [
        {
          "output_type": "display_data",
          "data": {
            "text/plain": [
              "<Figure size 640x480 with 1 Axes>"
            ],
            "image/png": "[encoded data removed]"
          },
          "metadata": {}
        }
      ]
    },
    {
      "cell_type": "markdown",
      "metadata": {
        "id": "Ig-QNgHWvHJf"
      },
      "source": [
        "## Formulation 5\n",
        "$$g_5(x) = x - \\frac{x^3+4x^2-10}{3x^2+8x}$$"
      ]
    },
    {
      "cell_type": "code",
      "metadata": {
        "id": "RI04n8-OvChp",
        "colab": {
          "base_uri": "https://localhost:8080/",
          "height": 55
        },
        "outputId": "b449dc54-e3c3-43d0-b602-161c699c1443"
      },
      "source": [
        "g5 = x - (x**3+4*x**2-10)/(3*x**2+8*x)\n",
        "g5"
      ],
      "execution_count": 42,
      "outputs": [
        {
          "output_type": "execute_result",
          "data": {
            "text/plain": [
              "     3      2     \n",
              "    x  + 4⋅x  - 10\n",
              "x - ──────────────\n",
              "         2        \n",
              "      3⋅x  + 8⋅x  "
            ],
            "text/latex": "$\\displaystyle x - \\frac{x^{3} + 4 x^{2} - 10}{3 x^{2} + 8 x}$"
          },
          "metadata": {},
          "execution_count": 42
        }
      ]
    },
    {
      "cell_type": "code",
      "metadata": {
        "id": "zW1UCjkPvY3C",
        "colab": {
          "base_uri": "https://localhost:8080/",
          "height": 71
        },
        "outputId": "92cb7071-c745-4aea-ae44-fab56667c733"
      },
      "source": [
        "g5Prime = sympy.diff(g4)\n",
        "g5Prime"
      ],
      "execution_count": 43,
      "outputs": [
        {
          "output_type": "execute_result",
          "data": {
            "text/plain": [
              "         _______ \n",
              "        ╱   1    \n",
              "-√10⋅  ╱  ─────  \n",
              "     ╲╱   x + 4  \n",
              "─────────────────\n",
              "    2⋅(x + 4)    "
            ],
            "text/latex": "$\\displaystyle - \\frac{\\sqrt{10} \\sqrt{\\frac{1}{x + 4}}}{2 \\left(x + 4\\right)}$"
          },
          "metadata": {},
          "execution_count": 43
        }
      ]
    },
    {
      "cell_type": "code",
      "source": [
        "sympy.minimum( g5Prime, x, sympy.Interval(1,2) ).evalf(), sympy.maximum( g5Prime, x, sympy.Interval(1,2) ).evalf()"
      ],
      "metadata": {
        "id": "4CmIAK7mbhQB",
        "outputId": "c6fcd18b-9346-4353-c171-398a06cf92d5",
        "colab": {
          "base_uri": "https://localhost:8080/",
          "height": 37
        }
      },
      "execution_count": 45,
      "outputs": [
        {
          "output_type": "execute_result",
          "data": {
            "text/plain": [
              "(-0.14142135623731, -0.107582870727984)"
            ],
            "text/latex": "$\\displaystyle \\left( -0.14142135623731, \\  -0.107582870727984\\right)$"
          },
          "metadata": {},
          "execution_count": 45
        }
      ]
    },
    {
      "cell_type": "code",
      "metadata": {
        "id": "GSKeFnktvceq",
        "colab": {
          "base_uri": "https://localhost:8080/",
          "height": 486
        },
        "outputId": "7761254e-ea58-4c25-cc04-1e07207633ad"
      },
      "source": [
        "plt1 = plot( g5, (x,1,3), ylim = (-5,5), show=False )\n",
        "plt2 = plot( g5Prime, (x,1,3), show=False , line_color='red')\n",
        "plt3 = plot( x, (x,1,3), show=False , line_color='green')\n",
        "plt1.append( plt2[0] )\n",
        "plt1.append( plt3[0] )\n",
        "plt1.show()"
      ],
      "execution_count": 33,
      "outputs": [
        {
          "output_type": "display_data",
          "data": {
            "text/plain": [
              "<Figure size 640x480 with 1 Axes>"
            ],
            "image/png": "[encoded data removed]"
          },
          "metadata": {}
        }
      ]
    }
  ]
}