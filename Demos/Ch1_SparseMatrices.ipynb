{
  "nbformat": 4,
  "nbformat_minor": 0,
  "metadata": {
    "colab": {
      "provenance": [],
      "include_colab_link": true
    },
    "kernelspec": {
      "name": "python3",
      "display_name": "Python 3"
    },
    "language_info": {
      "name": "python"
    }
  },
  "cells": [
    {
      "cell_type": "markdown",
      "metadata": {
        "id": "view-in-github",
        "colab_type": "text"
      },
      "source": [
        "<a href=\"https://colab.research.google.com/github/cu-applied-math/appm-4600-numerics/blob/main/Demos/Ch1_SparseMatrices.ipynb\" target=\"_parent\"><img src=\"https://colab.research.google.com/assets/colab-badge.svg\" alt=\"Open In Colab\"/></a>"
      ]
    },
    {
      "cell_type": "markdown",
      "source": [
        "# Sparse matrix demo\n",
        "APPM 4600\n",
        "\n",
        "Copyright Dept of Applied Math, University of Colorado Boulder. Released under a BSD 3-clause license\n",
        "\n",
        "Learning objectives:\n",
        "1. Just because a matrix has a lot of zero entries doesn't mean that your code will automatically take advantage of it. You need to explicitly use a sparse format.\n",
        "2. Using a sparse format, if the matrix isn't extremely sparse, it may not be worth it (in terms of speed and/or memory)\n",
        "3. Depending on the kind of sparse format, some operations may be fast or slow"
      ],
      "metadata": {
        "id": "0KaRpA6DKk7n"
      }
    },
    {
      "cell_type": "code",
      "execution_count": 2,
      "metadata": {
        "id": "KnnjexxCQXvK"
      },
      "outputs": [],
      "source": [
        "import scipy\n",
        "import numpy as np"
      ]
    },
    {
      "cell_type": "markdown",
      "source": [
        "# How to take advantage of sparsity\n",
        "Even if a matrix is (mathematically) sparse, if we don't use a sparse data structure, the code won't take much advantage of it"
      ],
      "metadata": {
        "id": "b_X5id3yn_6_"
      }
    },
    {
      "cell_type": "code",
      "source": [
        "n = int(3e3)\n",
        "A = np.random.randn(n, n) # a dense matrix\n",
        "# B = np.zeros( (n,n) )\n",
        "B = np.eye(n) # identity matrix, very sparse\n",
        "B[:,0] = -8.\n",
        "B[4,:] = 0.004\n",
        "B[14,20] = 9.8\n",
        "B[1099,2103] = -4  # B is a very sparse matrix!\n",
        "B[-1,-1] = 10234.\n",
        "\n",
        "x = np.ones( (n,1) )\n",
        "\n",
        "%timeit A@x\n",
        "%timeit B@x"
      ],
      "metadata": {
        "colab": {
          "base_uri": "https://localhost:8080/"
        },
        "id": "Pacxb4t-nM_a",
        "outputId": "25d40ae4-6803-4cba-e68e-3a5e38a0ba8a"
      },
      "execution_count": 9,
      "outputs": [
        {
          "output_type": "stream",
          "name": "stdout",
          "text": [
            "8.05 ms ± 2.64 ms per loop (mean ± std. dev. of 7 runs, 100 loops each)\n",
            "1.88 ms ± 140 µs per loop (mean ± std. dev. of 7 runs, 100 loops each)\n"
          ]
        }
      ]
    },
    {
      "cell_type": "markdown",
      "source": [
        "There was very little speed advantage with the sparse matrix... because it's not in a sparse data structure.\n",
        "\n",
        "Let's explicitly tell the computer to store it in a sparse data structure:"
      ],
      "metadata": {
        "id": "LVhfKGsdpMHl"
      }
    },
    {
      "cell_type": "code",
      "source": [
        "B_sparse = scipy.sparse.csr_array(B) # generally prefer .csr_array over .csr_matrix\n",
        "%timeit B_sparse@x"
      ],
      "metadata": {
        "colab": {
          "base_uri": "https://localhost:8080/"
        },
        "id": "mE-CRxAlnafv",
        "outputId": "03b3db1d-286b-4040-db52-5d82e4150ae8"
      },
      "execution_count": 10,
      "outputs": [
        {
          "output_type": "stream",
          "name": "stdout",
          "text": [
            "20.3 µs ± 528 ns per loop (mean ± std. dev. of 7 runs, 10000 loops each)\n"
          ]
        }
      ]
    },
    {
      "cell_type": "code",
      "source": [
        "# Btw, a useful tool to visualize the nonzero entries of a sparse matrix:\n",
        "from matplotlib import pyplot as plt\n",
        "plt.spy(B_sparse)\n",
        "plt.show()"
      ],
      "metadata": {
        "colab": {
          "base_uri": "https://localhost:8080/",
          "height": 435
        },
        "id": "DnwAEEbJLUdK",
        "outputId": "fddec4b3-0b2c-480f-c657-8a0466654303"
      },
      "execution_count": 11,
      "outputs": [
        {
          "output_type": "display_data",
          "data": {
            "text/plain": [
              "<Figure size 640x480 with 1 Axes>"
            ],
            "image/png": "[encoded data removed]"
          },
          "metadata": {}
        }
      ]
    },
    {
      "cell_type": "markdown",
      "source": [
        "Now it's must faster!"
      ],
      "metadata": {
        "id": "Ujrs7WQ6pVHc"
      }
    },
    {
      "cell_type": "markdown",
      "source": [
        "# Sometimes we don't want to take advantage of sparsity!\n",
        "In this example, for the 50\\% sparse matrix, using the sparse data structure is **slower** than ignoring the sparsity"
      ],
      "metadata": {
        "id": "juYN7fg6oR1U"
      }
    },
    {
      "cell_type": "code",
      "source": [
        "n = int(3e3)\n",
        "A = np.random.randn(n, n) # a dense matrix\n",
        "B = scipy.sparse.random_array( (n,n), density=0.01, format='csr') # very sparse\n",
        "C = scipy.sparse.random_array( (n,n), density=0.1, format='csr') # a little sparse\n",
        "D = scipy.sparse.random_array( (n,n), density=0.5, format='csr') # slightly sparse\n",
        "E = scipy.sparse.random_array( (n,n), density=0.9, format='csr') # not really sparse\n",
        "\n",
        "%timeit A@x\n",
        "%timeit B@x\n",
        "%timeit C@x\n",
        "%timeit D@x\n",
        "%timeit E@x"
      ],
      "metadata": {
        "colab": {
          "base_uri": "https://localhost:8080/"
        },
        "id": "lr6uOJ--n5Kc",
        "outputId": "ae121022-48c0-401e-8a08-1ae0912f05db"
      },
      "execution_count": null,
      "outputs": [
        {
          "output_type": "stream",
          "name": "stdout",
          "text": [
            "2.84 ms ± 125 µs per loop (mean ± std. dev. of 7 runs, 100 loops each)\n",
            "93.4 µs ± 13.1 µs per loop (mean ± std. dev. of 7 runs, 10000 loops each)\n",
            "929 µs ± 154 µs per loop (mean ± std. dev. of 7 runs, 1000 loops each)\n",
            "4.51 ms ± 72 µs per loop (mean ± std. dev. of 7 runs, 100 loops each)\n",
            "8.61 ms ± 1.03 ms per loop (mean ± std. dev. of 7 runs, 100 loops each)\n"
          ]
        }
      ]
    },
    {
      "cell_type": "markdown",
      "source": [
        "There may also not be a memory savings"
      ],
      "metadata": {
        "id": "tj9xyjmfvrnc"
      }
    },
    {
      "cell_type": "code",
      "source": [
        "def memory_usage(A):\n",
        "    \"\"\" returns the memory footprint of the matrix A, in MB \"\"\"\n",
        "    if scipy.sparse.issparse(A):\n",
        "        m = A.data.nbytes + A.indices.nbytes + A.indptr.nbytes\n",
        "    else:\n",
        "        m = A.nbytes\n",
        "    return m/1024/1024\n",
        "for matrix in [A,B,C,D,E]:\n",
        "    print(f\"{memory_usage(matrix)=:5.1f} MB\" )"
      ],
      "metadata": {
        "colab": {
          "base_uri": "https://localhost:8080/"
        },
        "id": "mDcfFMxEuDVE",
        "outputId": "27aab54f-5d59-4070-ddd8-7c147bfc6d54"
      },
      "execution_count": null,
      "outputs": [
        {
          "output_type": "stream",
          "name": "stdout",
          "text": [
            "memory_usage(matrix)= 68.7 MB\n",
            "memory_usage(matrix)=  1.0 MB\n",
            "memory_usage(matrix)= 10.3 MB\n",
            "memory_usage(matrix)= 51.5 MB\n",
            "memory_usage(matrix)= 92.7 MB\n"
          ]
        }
      ]
    },
    {
      "cell_type": "markdown",
      "source": [
        "# Exploiting the exact data structure\n",
        "\n",
        "Common sparse data structures:\n",
        "- `coo` for COOrdinate format\n",
        "- `csc` for Compressed Sparse Column format\n",
        "- `csr` for Compressed Sparse Row\n",
        "- `bsr` for Block Sparse Row\n",
        "\n",
        "There are also other things like `dia` (Sparse array with DIAgonal storage), `dok` (Dictionary Of Keys), `lil` (Row-based LIst of Lists)\n",
        "\n",
        "The type you use affects the efficiency of operations. Below, we work with a `csr` type:"
      ],
      "metadata": {
        "id": "AxNm-iaypaap"
      }
    },
    {
      "cell_type": "code",
      "source": [
        "n = int(5e3)\n",
        "\n",
        "B = scipy.sparse.random_array( (n,n), density=0.1, format='csr') # sparse\n",
        "\n",
        "def row_norms(A):\n",
        "    nrms = np.zeros( A.shape[0] )\n",
        "    for i in range( A.shape[0] ):\n",
        "        nrms[i] = np.linalg.norm( A[i,:].toarray() )\n",
        "        # nrms[i] = scipy.sparse.linalg.norm( A[i,:] )\n",
        "    return nrms\n",
        "\n",
        "def col_norms(A):\n",
        "    nrms = np.zeros( A.shape[1] )\n",
        "    for j in range( A.shape[1] ):\n",
        "        nrms[j] = np.linalg.norm( A[:,j].toarray() )\n",
        "        # nrms[j] = scipy.sparse.linalg.norm( A[:,j] )\n",
        "    return nrms"
      ],
      "metadata": {
        "id": "LNjmOWXwo32o"
      },
      "execution_count": null,
      "outputs": []
    },
    {
      "cell_type": "markdown",
      "source": [
        "Because of the `csr` structure, it's very quick to get an entire row, but not so quick to get an entire column (for two reasons: one, the lookup process isn't trivial, and two, the data isn't stored contiguously)"
      ],
      "metadata": {
        "id": "dOmmyDTUKbTj"
      }
    },
    {
      "cell_type": "code",
      "source": [
        "%time nrms_row = row_norms(B)\n",
        "%time nrms_col = col_norms(B)"
      ],
      "metadata": {
        "colab": {
          "base_uri": "https://localhost:8080/"
        },
        "id": "JG9q7qOzpk9h",
        "outputId": "690838a4-8bb0-4b7d-abcd-9633a7058c1b"
      },
      "execution_count": null,
      "outputs": [
        {
          "output_type": "stream",
          "name": "stdout",
          "text": [
            "CPU times: user 828 ms, sys: 1.02 ms, total: 829 ms\n",
            "Wall time: 829 ms\n",
            "CPU times: user 15.8 s, sys: 5.13 ms, total: 15.8 s\n",
            "Wall time: 15.8 s\n"
          ]
        }
      ]
    },
    {
      "cell_type": "code",
      "source": [
        "%time nrms_col = row_norms(B.T) # sometimes it is faster to transpose the matrix first!"
      ],
      "metadata": {
        "colab": {
          "base_uri": "https://localhost:8080/"
        },
        "id": "vH1i4w1qr5f6",
        "outputId": "5d6e3210-0478-4b9c-f9c9-0aa3f35ed637"
      },
      "execution_count": null,
      "outputs": [
        {
          "output_type": "stream",
          "name": "stdout",
          "text": [
            "CPU times: user 16.1 s, sys: 13.9 ms, total: 16.1 s\n",
            "Wall time: 16.4 s\n"
          ]
        }
      ]
    },
    {
      "cell_type": "markdown",
      "source": [
        "and if we switch from `csr` format to `csc` format, then the roles of rows and columns are switched, so now finding columns is fast"
      ],
      "metadata": {
        "id": "Lq7MBgYgxSEC"
      }
    },
    {
      "cell_type": "code",
      "source": [
        "C = scipy.sparse.csc_array(B) # this might take a few moments !?"
      ],
      "metadata": {
        "id": "97KmuwJbxBwx"
      },
      "execution_count": null,
      "outputs": []
    },
    {
      "cell_type": "code",
      "source": [
        "%time nrms_row = row_norms(C)\n",
        "%time nrms_col = col_norms(C)"
      ],
      "metadata": {
        "colab": {
          "base_uri": "https://localhost:8080/"
        },
        "id": "lx-7Co1fxLAQ",
        "outputId": "9a347c87-cdb1-4c6c-cd1d-897975e539d5"
      },
      "execution_count": null,
      "outputs": [
        {
          "output_type": "stream",
          "name": "stdout",
          "text": [
            "CPU times: user 15.6 s, sys: 5.04 ms, total: 15.6 s\n",
            "Wall time: 15.7 s\n",
            "CPU times: user 927 ms, sys: 1 ms, total: 928 ms\n",
            "Wall time: 955 ms\n"
          ]
        }
      ]
    },
    {
      "cell_type": "code",
      "source": [],
      "metadata": {
        "id": "-bvcXBOMxPAN"
      },
      "execution_count": null,
      "outputs": []
    }
  ]
}